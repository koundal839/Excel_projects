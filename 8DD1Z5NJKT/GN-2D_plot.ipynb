{
 "cells": [
  {
   "cell_type": "code",
   "execution_count": 1,
   "metadata": {
    "colab": {
     "base_uri": "https://localhost:8080/"
    },
    "id": "yqeNj00uBlKE",
    "outputId": "0427dd7a-b242-4d20-8bb8-429e96e7d9dd"
   },
   "outputs": [
    {
     "name": "stdout",
     "output_type": "stream",
     "text": [
      "Requirement already satisfied: excel2json in c:\\users\\avita\\appdata\\local\\programs\\python\\python311\\lib\\site-packages (1.0.1)\n",
      "Requirement already satisfied: six>=1.10.0 in c:\\users\\avita\\appdata\\local\\programs\\python\\python311\\lib\\site-packages (from excel2json) (1.16.0)\n",
      "Requirement already satisfied: xlrd>=1.0.0 in c:\\users\\avita\\appdata\\local\\programs\\python\\python311\\lib\\site-packages (from excel2json) (2.0.1)\n"
     ]
    }
   ],
   "source": [
    "!pip3 install excel2json"
   ]
  },
  {
   "cell_type": "code",
   "execution_count": 2,
   "metadata": {
    "id": "QXvBaFuCCkF1"
   },
   "outputs": [],
   "source": [
    "import pandas as pd\n",
    "import yaml\n",
    "import numpy as np\n",
    "import json\n",
    "import seaborn as sns\n",
    "#import excel2json"
   ]
  },
  {
   "cell_type": "code",
   "execution_count": 11,
   "metadata": {},
   "outputs": [],
   "source": [
    "import pandas as pd\n",
    "\n",
    "# Load the Excel file into a pandas DataFrame\n",
    "df = pd.read_excel(\"entry_with_patient_and_one_intruder_20230116-150853.xlsx\")\n",
    "df = df.to_json()\n",
    "df = json.loads(df)\n",
    "for key,value in df.items():\n",
    "  value.pop('Unnamed: 0',None)\n",
    "df2 = pd.DataFrame.from_dict(df,orient='columns')\n",
    "# Convert the DataFrame to a CSV file\n",
    "df2.to_csv(\"entry_with_patient_and_one_intruder_20230116-150853.csv\", index=False)"
   ]
  },
  {
   "cell_type": "code",
   "execution_count": 4,
   "metadata": {
    "id": "58BSXDV_6FWn"
   },
   "outputs": [
    {
     "ename": "AttributeError",
     "evalue": "'dict' object has no attribute 'to_csv'",
     "output_type": "error",
     "traceback": [
      "\u001b[1;31m---------------------------------------------------------------------------\u001b[0m",
      "\u001b[1;31mAttributeError\u001b[0m                            Traceback (most recent call last)",
      "Cell \u001b[1;32mIn[4], line 11\u001b[0m\n\u001b[0;32m      9\u001b[0m df2 \u001b[38;5;241m=\u001b[39m pd\u001b[38;5;241m.\u001b[39mDataFrame\u001b[38;5;241m.\u001b[39mfrom_dict(df,orient\u001b[38;5;241m=\u001b[39m\u001b[38;5;124m'\u001b[39m\u001b[38;5;124mcolumns\u001b[39m\u001b[38;5;124m'\u001b[39m)\n\u001b[0;32m     10\u001b[0m \u001b[38;5;66;03m# Convert the DataFrame to a CSV file\u001b[39;00m\n\u001b[1;32m---> 11\u001b[0m \u001b[43mdf\u001b[49m\u001b[38;5;241;43m.\u001b[39;49m\u001b[43mto_csv\u001b[49m(\u001b[38;5;124m\"\u001b[39m\u001b[38;5;124mentry_with_patient_and_one_intruder_20230116-150853.csv\u001b[39m\u001b[38;5;124m\"\u001b[39m, index\u001b[38;5;241m=\u001b[39m\u001b[38;5;28;01mFalse\u001b[39;00m)\n",
      "\u001b[1;31mAttributeError\u001b[0m: 'dict' object has no attribute 'to_csv'"
     ]
    }
   ],
   "source": []
  },
  {
   "cell_type": "code",
   "execution_count": 21,
   "metadata": {
    "id": "8fZfJP7iCyE-"
   },
   "outputs": [],
   "source": [
    "del df['Unnamed: 0']"
   ]
  },
  {
   "cell_type": "code",
   "execution_count": 73,
   "metadata": {
    "colab": {
     "base_uri": "https://localhost:8080/",
     "height": 105
    },
    "id": "by6yyYloFMOU",
    "outputId": "0720ea47-6c46-41eb-def1-0fc1914a8f1c"
   },
   "outputs": [
    {
     "data": {
      "application/vnd.google.colaboratory.intrinsic+json": {
       "type": "string"
      },
      "text/plain": [
       "\"{'crc': True, 'captured_by': [{'0': {'00000000dedd8941': -79, '0000000090de2ebf': -77, '10000000f01b4c9d': -84, '00000000e4540cab': -79, '0000000053816128': -72, '00000000ccfdc71e': -85}, '1': {'0000000028c7b980': -87, '00000000dedd8941': -81, '0000000090de2ebf': -79, '10000000f01b4c9d': -82, '00000000e4540cab': -83, '0000000053816128': -81, '00000000ccfdc71e': -88}}, {'0': {'0000000028c7b980': -85, '00000000dedd8941': -85, '0000000090de2ebf': -79, '10000000f01b4c9d': -82, '00000000e4540cab': -79, '00000000ccfdc71e': -85}, '1': {'00000000e4540cab': -79}}], 'captured_at': '2023-01-16T14:06:31.083Z', 'type': 'THERMAL_ROI', 'roi': '27292829282627272D2C2E3B352A2A2A2F2D313E382D2C2D2F303033322F2D2C3231313331302D2F31303132322F2F3135313232313031313735353433323335', 'version': 1}\""
      ]
     },
     "execution_count": 73,
     "metadata": {},
     "output_type": "execute_result"
    }
   ],
   "source": [
    "a = dict(df2['0'])\n",
    "a['0']"
   ]
  },
  {
   "cell_type": "code",
   "execution_count": 76,
   "metadata": {
    "colab": {
     "base_uri": "https://localhost:8080/",
     "height": 528
    },
    "id": "aNg3GPAl2-zt",
    "outputId": "7d75c29d-3140-40f7-c192-6be6bbd7aed8"
   },
   "outputs": [
    {
     "name": "stdout",
     "output_type": "stream",
     "text": [
      "Thermal raw readings: [19.75, 20.25, 20.0, 20.25, 20.0, 19.5, 19.75, 19.75, 21.25, 21.0, 21.5, 24.75, 23.25, 20.5, 20.5, 20.5, 21.75, 21.25, 22.25, 25.5, 24.0, 21.25, 21.0, 21.25, 21.75, 22.0, 22.0, 22.75, 22.5, 21.75, 21.25, 21.0, 22.5, 22.25, 22.25, 22.75, 22.25, 22.0, 21.25, 21.75, 22.25, 22.0, 22.25, 22.5, 22.5, 21.75, 21.75, 22.25, 23.25, 22.25, 22.5, 22.5, 22.25, 22.0, 22.25, 22.25, 23.75, 23.25, 23.25, 23.0, 22.75, 22.5, 22.75, 23.25]\n",
      "Decoded TOF data:\n",
      " [[22.55 22.74 22.41 22.77 22.41 21.75 22.13 22.03]\n",
      " [22.87 22.77 22.86 26.42 25.08 22.09 21.96 21.87]\n",
      " [22.65 22.63 23.17 26.49 24.99 22.5  22.08 22.24]\n",
      " [22.46 22.69 22.94 23.41 23.12 22.43 22.2  21.87]\n",
      " [22.76 22.66 22.86 23.1  22.9  22.56 22.05 22.18]\n",
      " [22.61 22.47 22.73 22.68 22.69 22.19 22.05 22.33]\n",
      " [22.73 22.28 22.31 22.35 22.52 22.04 22.2  22.25]\n",
      " [22.97 22.36 22.53 22.37 22.2  22.2  22.36 22.37]]\n",
      "\n",
      "\n",
      "\n"
     ]
    },
    {
     "data": {
      "text/plain": [
       "<matplotlib.axes._subplots.AxesSubplot at 0x7fc998a829d0>"
      ]
     },
     "execution_count": 76,
     "metadata": {},
     "output_type": "execute_result"
    },
    {
     "data": {
      "image/png": "[encoded data removed]",
      "text/plain": [
       "<Figure size 432x288 with 2 Axes>"
      ]
     },
     "metadata": {
      "needs_background": "light"
     },
     "output_type": "display_data"
    }
   ],
   "source": [
    "\n",
    "# Thermal data will be inside JSON packets that contain the keyword 'type' with value 'THERMAL_ROI'\n",
    "json_string = a['0']\n",
    "# 1) Convert string to JSON\n",
    "json_dict = yaml.load(json_string, Loader=yaml.FullLoader)\n",
    "# print(json.dumps(json_dict, indent=4))\n",
    "# 2) Thermal data is saved under the keyword 'roi'\n",
    "thermal_roi_values = json_dict['roi']\n",
    "# 3) Data is saved in a hex string like before. It is sent in increments of 0.25 degrees starring from a minimum value of 10\n",
    "thermal_roi_values = [10+int(x+y,16)*.25 for x,y in zip(thermal_roi_values[::2], thermal_roi_values[1::2])]\n",
    "# 4) When standing at the base of the base faving it, the readings are top-left to bottom-right\n",
    "thermal_data_matrix = np.array(thermal_roi_values).reshape((8, 8))\n",
    "# 5) The readings have internal noise. To correct it we add a bias. This is a fixed value\n",
    "THERMAL_BIAS = [\n",
    "    [ 2.8,   2.49,  2.41,  2.52,  2.41,  2.25,  2.38,  2.28],\n",
    "    [ 1.62,  1.77,  1.36,  1.67,  1.83,  1.59,  1.46,  1.37],\n",
    "    [ 0.9,   1.38,  0.92,  0.99,  0.99,  1.25,  1.08,  0.99],\n",
    "    [ 0.71,  0.69,  0.94,  0.66,  0.62,  0.68,  0.95,  0.87],\n",
    "    [ 0.26,  0.41,  0.61,  0.35,  0.65,  0.56,  0.8,   0.43],\n",
    "    [ 0.36,  0.47,  0.48,  0.18,  0.19,  0.44,  0.3,   0.08],\n",
    "    [-0.52,  0.03, -0.19, -0.15,  0.27,  0.04, -0.05,  -0  ],\n",
    "    [-0.78, -0.89, -0.72, -0.63, -0.55, -0.3,  -0.39, -0.88]\n",
    "]\n",
    "thermal_data_matrix = thermal_data_matrix + THERMAL_BIAS\n",
    "# Result\n",
    "print('Thermal raw readings:', thermal_roi_values)\n",
    "print('Decoded TOF data:\\n', thermal_data_matrix)\n",
    "print('\\n\\n')\n",
    "sns.heatmap(thermal_data_matrix)"
   ]
  },
  {
   "cell_type": "code",
   "execution_count": 77,
   "metadata": {
    "id": "j6L_qyQOy-uc"
   },
   "outputs": [],
   "source": [
    "# Load the Excel file into a pandas DataFrame\n",
    "df = pd.read_excel(\"/content/entry_with_patient_and_two_people_around_20230116-151320.xlsx\")\n",
    "df = df.to_json()\n",
    "df = json.loads(df)\n",
    "for key,value in df.items():\n",
    "  value.pop('Unnamed: 0',None)\n",
    "df2 = pd.DataFrame.from_dict(df,orient='columns')\n",
    "# Convert the DataFrame to a CSV file\n",
    "# df.to_csv(\"/content/entry_with_patient_and_one_intruder_20230116-150853.csv\", index=False)"
   ]
  },
  {
   "cell_type": "code",
   "execution_count": 83,
   "metadata": {
    "colab": {
     "base_uri": "https://localhost:8080/",
     "height": 424
    },
    "id": "h65Pu0pW6Fl4",
    "outputId": "08098fd7-e85a-44d0-9783-29b4abb37fb2"
   },
   "outputs": [
    {
     "data": {
      "text/html": [
       "\n",
       "  <div id=\"df-fdd7e10c-b84e-472b-9065-6a714bfbfcbf\">\n",
       "    <div class=\"colab-df-container\">\n",
       "      <div>\n",
       "<style scoped>\n",
       "    .dataframe tbody tr th:only-of-type {\n",
       "        vertical-align: middle;\n",
       "    }\n",
       "\n",
       "    .dataframe tbody tr th {\n",
       "        vertical-align: top;\n",
       "    }\n",
       "\n",
       "    .dataframe thead th {\n",
       "        text-align: right;\n",
       "    }\n",
       "</style>\n",
       "<table border=\"1\" class=\"dataframe\">\n",
       "  <thead>\n",
       "    <tr style=\"text-align: right;\">\n",
       "      <th></th>\n",
       "      <th>Unnamed: 0</th>\n",
       "      <th>0</th>\n",
       "    </tr>\n",
       "  </thead>\n",
       "  <tbody>\n",
       "    <tr>\n",
       "      <th>0</th>\n",
       "      <td>0</td>\n",
       "      <td>{'seconds': 4416, 'error_state': '00', 'pir_da...</td>\n",
       "    </tr>\n",
       "    <tr>\n",
       "      <th>1</th>\n",
       "      <td>1</td>\n",
       "      <td>{'seconds': 4425, 'error_state': '00', 'pir_da...</td>\n",
       "    </tr>\n",
       "    <tr>\n",
       "      <th>2</th>\n",
       "      <td>2</td>\n",
       "      <td>{'seconds': 4426, 'error_state': '00', 'pir_da...</td>\n",
       "    </tr>\n",
       "    <tr>\n",
       "      <th>3</th>\n",
       "      <td>3</td>\n",
       "      <td>{'seconds': 4444, 'error_state': '00', 'pir_da...</td>\n",
       "    </tr>\n",
       "    <tr>\n",
       "      <th>4</th>\n",
       "      <td>4</td>\n",
       "      <td>{'seconds': 4448, 'error_state': '00', 'pir_da...</td>\n",
       "    </tr>\n",
       "    <tr>\n",
       "      <th>...</th>\n",
       "      <td>...</td>\n",
       "      <td>...</td>\n",
       "    </tr>\n",
       "    <tr>\n",
       "      <th>119</th>\n",
       "      <td>119</td>\n",
       "      <td>{'seconds': 4638, 'error_state': '00', 'pir_da...</td>\n",
       "    </tr>\n",
       "    <tr>\n",
       "      <th>120</th>\n",
       "      <td>120</td>\n",
       "      <td>{'seconds': 4640, 'error_state': '00', 'pir_da...</td>\n",
       "    </tr>\n",
       "    <tr>\n",
       "      <th>121</th>\n",
       "      <td>121</td>\n",
       "      <td>{'seconds': 4641, 'error_state': '00', 'pir_da...</td>\n",
       "    </tr>\n",
       "    <tr>\n",
       "      <th>122</th>\n",
       "      <td>122</td>\n",
       "      <td>{'crc': True, 'captured_by': [{'0': {'00000000...</td>\n",
       "    </tr>\n",
       "    <tr>\n",
       "      <th>123</th>\n",
       "      <td>123</td>\n",
       "      <td>{'seconds': 4645, 'error_state': '00', 'pir_da...</td>\n",
       "    </tr>\n",
       "  </tbody>\n",
       "</table>\n",
       "<p>124 rows × 2 columns</p>\n",
       "</div>\n",
       "      <button class=\"colab-df-convert\" onclick=\"convertToInteractive('df-fdd7e10c-b84e-472b-9065-6a714bfbfcbf')\"\n",
       "              title=\"Convert this dataframe to an interactive table.\"\n",
       "              style=\"display:none;\">\n",
       "        \n",
       "  <svg xmlns=\"http://www.w3.org/2000/svg\" height=\"24px\"viewBox=\"0 0 24 24\"\n",
       "       width=\"24px\">\n",
       "    <path d=\"M0 0h24v24H0V0z\" fill=\"none\"/>\n",
       "    <path d=\"M18.56 5.44l.94 2.06.94-2.06 2.06-.94-2.06-.94-.94-2.06-.94 2.06-2.06.94zm-11 1L8.5 8.5l.94-2.06 2.06-.94-2.06-.94L8.5 2.5l-.94 2.06-2.06.94zm10 10l.94 2.06.94-2.06 2.06-.94-2.06-.94-.94-2.06-.94 2.06-2.06.94z\"/><path d=\"M17.41 7.96l-1.37-1.37c-.4-.4-.92-.59-1.43-.59-.52 0-1.04.2-1.43.59L10.3 9.45l-7.72 7.72c-.78.78-.78 2.05 0 2.83L4 21.41c.39.39.9.59 1.41.59.51 0 1.02-.2 1.41-.59l7.78-7.78 2.81-2.81c.8-.78.8-2.07 0-2.86zM5.41 20L4 18.59l7.72-7.72 1.47 1.35L5.41 20z\"/>\n",
       "  </svg>\n",
       "      </button>\n",
       "      \n",
       "  <style>\n",
       "    .colab-df-container {\n",
       "      display:flex;\n",
       "      flex-wrap:wrap;\n",
       "      gap: 12px;\n",
       "    }\n",
       "\n",
       "    .colab-df-convert {\n",
       "      background-color: #E8F0FE;\n",
       "      border: none;\n",
       "      border-radius: 50%;\n",
       "      cursor: pointer;\n",
       "      display: none;\n",
       "      fill: #1967D2;\n",
       "      height: 32px;\n",
       "      padding: 0 0 0 0;\n",
       "      width: 32px;\n",
       "    }\n",
       "\n",
       "    .colab-df-convert:hover {\n",
       "      background-color: #E2EBFA;\n",
       "      box-shadow: 0px 1px 2px rgba(60, 64, 67, 0.3), 0px 1px 3px 1px rgba(60, 64, 67, 0.15);\n",
       "      fill: #174EA6;\n",
       "    }\n",
       "\n",
       "    [theme=dark] .colab-df-convert {\n",
       "      background-color: #3B4455;\n",
       "      fill: #D2E3FC;\n",
       "    }\n",
       "\n",
       "    [theme=dark] .colab-df-convert:hover {\n",
       "      background-color: #434B5C;\n",
       "      box-shadow: 0px 1px 3px 1px rgba(0, 0, 0, 0.15);\n",
       "      filter: drop-shadow(0px 1px 2px rgba(0, 0, 0, 0.3));\n",
       "      fill: #FFFFFF;\n",
       "    }\n",
       "  </style>\n",
       "\n",
       "      <script>\n",
       "        const buttonEl =\n",
       "          document.querySelector('#df-fdd7e10c-b84e-472b-9065-6a714bfbfcbf button.colab-df-convert');\n",
       "        buttonEl.style.display =\n",
       "          google.colab.kernel.accessAllowed ? 'block' : 'none';\n",
       "\n",
       "        async function convertToInteractive(key) {\n",
       "          const element = document.querySelector('#df-fdd7e10c-b84e-472b-9065-6a714bfbfcbf');\n",
       "          const dataTable =\n",
       "            await google.colab.kernel.invokeFunction('convertToInteractive',\n",
       "                                                     [key], {});\n",
       "          if (!dataTable) return;\n",
       "\n",
       "          const docLinkHtml = 'Like what you see? Visit the ' +\n",
       "            '<a target=\"_blank\" href=https://colab.research.google.com/notebooks/data_table.ipynb>data table notebook</a>'\n",
       "            + ' to learn more about interactive tables.';\n",
       "          element.innerHTML = '';\n",
       "          dataTable['output_type'] = 'display_data';\n",
       "          await google.colab.output.renderOutput(dataTable, element);\n",
       "          const docLink = document.createElement('div');\n",
       "          docLink.innerHTML = docLinkHtml;\n",
       "          element.appendChild(docLink);\n",
       "        }\n",
       "      </script>\n",
       "    </div>\n",
       "  </div>\n",
       "  "
      ],
      "text/plain": [
       "     Unnamed: 0                                                  0\n",
       "0             0  {'seconds': 4416, 'error_state': '00', 'pir_da...\n",
       "1             1  {'seconds': 4425, 'error_state': '00', 'pir_da...\n",
       "2             2  {'seconds': 4426, 'error_state': '00', 'pir_da...\n",
       "3             3  {'seconds': 4444, 'error_state': '00', 'pir_da...\n",
       "4             4  {'seconds': 4448, 'error_state': '00', 'pir_da...\n",
       "..          ...                                                ...\n",
       "119         119  {'seconds': 4638, 'error_state': '00', 'pir_da...\n",
       "120         120  {'seconds': 4640, 'error_state': '00', 'pir_da...\n",
       "121         121  {'seconds': 4641, 'error_state': '00', 'pir_da...\n",
       "122         122  {'crc': True, 'captured_by': [{'0': {'00000000...\n",
       "123         123  {'seconds': 4645, 'error_state': '00', 'pir_da...\n",
       "\n",
       "[124 rows x 2 columns]"
      ]
     },
     "execution_count": 83,
     "metadata": {},
     "output_type": "execute_result"
    }
   ],
   "source": [
    "df2"
   ]
  },
  {
   "cell_type": "code",
   "execution_count": 88,
   "metadata": {
    "colab": {
     "base_uri": "https://localhost:8080/",
     "height": 88
    },
    "id": "wO32I3WY4o3Z",
    "outputId": "23b5edb7-2f4c-46f9-aece-c5f63c03e115"
   },
   "outputs": [
    {
     "data": {
      "application/vnd.google.colaboratory.intrinsic+json": {
       "type": "string"
      },
      "text/plain": [
       "\"{'crc': True, 'captured_by': [{'0': {'0000000028c7b980': -86, '00000000dedd8941': -78, '0000000090de2ebf': -78, '00000000e4540cab': -84}, '1': {'0000000028c7b980': -85, '00000000dedd8941': -81, '0000000090de2ebf': -78, '00000000e4540cab': -80}}, {'0': {'0000000028c7b980': -84, '00000000dedd8941': -78, '0000000090de2ebf': -79, '00000000e4540cab': -79, '0000000053816128': -79}, '1': {'0000000090de2ebf': -77}}], 'captured_at': '2023-01-16T14:12:56.385Z', 'type': 'THERMAL_ROI', 'roi': '26282628272427272B2C2D3B342A2A2A2E2C303D362C2B2B2F2F2E32302D2C2C30302F302E2E2C2E302E3031302E2F30333031312F2F30313635353333313234', 'version': 1}\""
      ]
     },
     "execution_count": 88,
     "metadata": {},
     "output_type": "execute_result"
    }
   ],
   "source": [
    "df2._get_value('122','0')"
   ]
  },
  {
   "cell_type": "code",
   "execution_count": 89,
   "metadata": {
    "colab": {
     "base_uri": "https://localhost:8080/",
     "height": 528
    },
    "id": "NKH0F_EF4_e_",
    "outputId": "8ed3e6a5-cf84-463e-ce88-c7dac573d5ad"
   },
   "outputs": [
    {
     "name": "stdout",
     "output_type": "stream",
     "text": [
      "Thermal raw readings: [19.5, 20.0, 19.5, 20.0, 19.75, 19.0, 19.75, 19.75, 20.75, 21.0, 21.25, 24.75, 23.0, 20.5, 20.5, 20.5, 21.5, 21.0, 22.0, 25.25, 23.5, 21.0, 20.75, 20.75, 21.75, 21.75, 21.5, 22.5, 22.0, 21.25, 21.0, 21.0, 22.0, 22.0, 21.75, 22.0, 21.5, 21.5, 21.0, 21.5, 22.0, 21.5, 22.0, 22.25, 22.0, 21.5, 21.75, 22.0, 22.75, 22.0, 22.25, 22.25, 21.75, 21.75, 22.0, 22.25, 23.5, 23.25, 23.25, 22.75, 22.75, 22.25, 22.5, 23.0]\n",
      "Decoded TOF data:\n",
      " [[22.3  22.49 21.91 22.52 22.16 21.25 22.13 22.03]\n",
      " [22.37 22.77 22.61 26.42 24.83 22.09 21.96 21.87]\n",
      " [22.4  22.38 22.92 26.24 24.49 22.25 21.83 21.74]\n",
      " [22.46 22.44 22.44 23.16 22.62 21.93 21.95 21.87]\n",
      " [22.26 22.41 22.36 22.35 22.15 22.06 21.8  21.93]\n",
      " [22.36 21.97 22.48 22.43 22.19 21.94 22.05 22.08]\n",
      " [22.23 22.03 22.06 22.1  22.02 21.79 21.95 22.25]\n",
      " [22.72 22.36 22.53 22.12 22.2  21.95 22.11 22.12]]\n",
      "\n",
      "\n",
      "\n"
     ]
    },
    {
     "data": {
      "text/plain": [
       "<matplotlib.axes._subplots.AxesSubplot at 0x7fc996179610>"
      ]
     },
     "execution_count": 89,
     "metadata": {},
     "output_type": "execute_result"
    },
    {
     "data": {
      "image/png": "[encoded data removed]",
      "text/plain": [
       "<Figure size 432x288 with 2 Axes>"
      ]
     },
     "metadata": {
      "needs_background": "light"
     },
     "output_type": "display_data"
    }
   ],
   "source": [
    "json_string = df2._get_value('122','0')\n",
    "# 1) Convert string to JSON\n",
    "json_dict = yaml.load(json_string, Loader=yaml.FullLoader)\n",
    "# print(json.dumps(json_dict, indent=4))\n",
    "# 2) Thermal data is saved under the keyword 'roi'\n",
    "thermal_roi_values = json_dict['roi']\n",
    "# 3) Data is saved in a hex string like before. It is sent in increments of 0.25 degrees starring from a minimum value of 10\n",
    "thermal_roi_values = [10+int(x+y,16)*.25 for x,y in zip(thermal_roi_values[::2], thermal_roi_values[1::2])]\n",
    "# 4) When standing at the base of the base faving it, the readings are top-left to bottom-right\n",
    "thermal_data_matrix = np.array(thermal_roi_values).reshape((8, 8))\n",
    "# 5) The readings have internal noise. To correct it we add a bias. This is a fixed value\n",
    "THERMAL_BIAS = [\n",
    "    [ 2.8,   2.49,  2.41,  2.52,  2.41,  2.25,  2.38,  2.28],\n",
    "    [ 1.62,  1.77,  1.36,  1.67,  1.83,  1.59,  1.46,  1.37],\n",
    "    [ 0.9,   1.38,  0.92,  0.99,  0.99,  1.25,  1.08,  0.99],\n",
    "    [ 0.71,  0.69,  0.94,  0.66,  0.62,  0.68,  0.95,  0.87],\n",
    "    [ 0.26,  0.41,  0.61,  0.35,  0.65,  0.56,  0.8,   0.43],\n",
    "    [ 0.36,  0.47,  0.48,  0.18,  0.19,  0.44,  0.3,   0.08],\n",
    "    [-0.52,  0.03, -0.19, -0.15,  0.27,  0.04, -0.05,  -0  ],\n",
    "    [-0.78, -0.89, -0.72, -0.63, -0.55, -0.3,  -0.39, -0.88]\n",
    "]\n",
    "thermal_data_matrix = thermal_data_matrix + THERMAL_BIAS\n",
    "# Result\n",
    "print('Thermal raw readings:', thermal_roi_values)\n",
    "print('Decoded TOF data:\\n', thermal_data_matrix)\n",
    "print('\\n\\n')\n",
    "sns.heatmap(thermal_data_matrix)"
   ]
  },
  {
   "cell_type": "code",
   "execution_count": 92,
   "metadata": {
    "id": "TSmOBKWcG4gR"
   },
   "outputs": [],
   "source": [
    "# Read the Excel file \n",
    "df = pd.read_excel(\"/content/nopatient_with_upto_two_people_entering_20230116-152400.xlsx\") \n",
    "# Load the Excel file into a pandas DataFrame\n",
    "df = df.to_json()\n",
    "df = json.loads(df)\n",
    "for key,value in df.items():\n",
    "  value.pop('Unnamed: 0',None)\n",
    "df2 = pd.DataFrame.from_dict(df,orient='columns')\n",
    "# Convert the DataFrame to a CSV file"
   ]
  },
  {
   "cell_type": "code",
   "execution_count": 93,
   "metadata": {
    "colab": {
     "base_uri": "https://localhost:8080/",
     "height": 424
    },
    "id": "_yPy4AAn6wCI",
    "outputId": "06976d64-1124-4c19-ded5-77a9d3db6b43"
   },
   "outputs": [
    {
     "data": {
      "text/html": [
       "\n",
       "  <div id=\"df-957bc329-ca75-43d7-8a33-6fcef02872e6\">\n",
       "    <div class=\"colab-df-container\">\n",
       "      <div>\n",
       "<style scoped>\n",
       "    .dataframe tbody tr th:only-of-type {\n",
       "        vertical-align: middle;\n",
       "    }\n",
       "\n",
       "    .dataframe tbody tr th {\n",
       "        vertical-align: top;\n",
       "    }\n",
       "\n",
       "    .dataframe thead th {\n",
       "        text-align: right;\n",
       "    }\n",
       "</style>\n",
       "<table border=\"1\" class=\"dataframe\">\n",
       "  <thead>\n",
       "    <tr style=\"text-align: right;\">\n",
       "      <th></th>\n",
       "      <th>Unnamed: 0</th>\n",
       "      <th>0</th>\n",
       "    </tr>\n",
       "  </thead>\n",
       "  <tbody>\n",
       "    <tr>\n",
       "      <th>0</th>\n",
       "      <td>0</td>\n",
       "      <td>{'seconds': 5194, 'error_state': '00', 'pir_da...</td>\n",
       "    </tr>\n",
       "    <tr>\n",
       "      <th>1</th>\n",
       "      <td>1</td>\n",
       "      <td>{'seconds': 5195, 'error_state': '00', 'pir_da...</td>\n",
       "    </tr>\n",
       "    <tr>\n",
       "      <th>2</th>\n",
       "      <td>2</td>\n",
       "      <td>{'crc': True, 'captured_by': [{'0': {'00000000...</td>\n",
       "    </tr>\n",
       "    <tr>\n",
       "      <th>3</th>\n",
       "      <td>3</td>\n",
       "      <td>{'luminance': 61, 'battery_voltage': 4268, 'ro...</td>\n",
       "    </tr>\n",
       "    <tr>\n",
       "      <th>4</th>\n",
       "      <td>4</td>\n",
       "      <td>{'seconds': 5206, 'error_state': '00', 'pir_da...</td>\n",
       "    </tr>\n",
       "    <tr>\n",
       "      <th>...</th>\n",
       "      <td>...</td>\n",
       "      <td>...</td>\n",
       "    </tr>\n",
       "    <tr>\n",
       "      <th>76</th>\n",
       "      <td>76</td>\n",
       "      <td>{'seconds': 5281, 'error_state': '00', 'pir_da...</td>\n",
       "    </tr>\n",
       "    <tr>\n",
       "      <th>77</th>\n",
       "      <td>77</td>\n",
       "      <td>{'seconds': 5285, 'error_state': '00', 'pir_da...</td>\n",
       "    </tr>\n",
       "    <tr>\n",
       "      <th>78</th>\n",
       "      <td>78</td>\n",
       "      <td>{'seconds': 5286, 'error_state': '00', 'pir_da...</td>\n",
       "    </tr>\n",
       "    <tr>\n",
       "      <th>79</th>\n",
       "      <td>79</td>\n",
       "      <td>{'crc': True, 'captured_by': [{'0': {'00000000...</td>\n",
       "    </tr>\n",
       "    <tr>\n",
       "      <th>80</th>\n",
       "      <td>80</td>\n",
       "      <td>{'luminance': 63, 'battery_voltage': 4268, 'ro...</td>\n",
       "    </tr>\n",
       "  </tbody>\n",
       "</table>\n",
       "<p>81 rows × 2 columns</p>\n",
       "</div>\n",
       "      <button class=\"colab-df-convert\" onclick=\"convertToInteractive('df-957bc329-ca75-43d7-8a33-6fcef02872e6')\"\n",
       "              title=\"Convert this dataframe to an interactive table.\"\n",
       "              style=\"display:none;\">\n",
       "        \n",
       "  <svg xmlns=\"http://www.w3.org/2000/svg\" height=\"24px\"viewBox=\"0 0 24 24\"\n",
       "       width=\"24px\">\n",
       "    <path d=\"M0 0h24v24H0V0z\" fill=\"none\"/>\n",
       "    <path d=\"M18.56 5.44l.94 2.06.94-2.06 2.06-.94-2.06-.94-.94-2.06-.94 2.06-2.06.94zm-11 1L8.5 8.5l.94-2.06 2.06-.94-2.06-.94L8.5 2.5l-.94 2.06-2.06.94zm10 10l.94 2.06.94-2.06 2.06-.94-2.06-.94-.94-2.06-.94 2.06-2.06.94z\"/><path d=\"M17.41 7.96l-1.37-1.37c-.4-.4-.92-.59-1.43-.59-.52 0-1.04.2-1.43.59L10.3 9.45l-7.72 7.72c-.78.78-.78 2.05 0 2.83L4 21.41c.39.39.9.59 1.41.59.51 0 1.02-.2 1.41-.59l7.78-7.78 2.81-2.81c.8-.78.8-2.07 0-2.86zM5.41 20L4 18.59l7.72-7.72 1.47 1.35L5.41 20z\"/>\n",
       "  </svg>\n",
       "      </button>\n",
       "      \n",
       "  <style>\n",
       "    .colab-df-container {\n",
       "      display:flex;\n",
       "      flex-wrap:wrap;\n",
       "      gap: 12px;\n",
       "    }\n",
       "\n",
       "    .colab-df-convert {\n",
       "      background-color: #E8F0FE;\n",
       "      border: none;\n",
       "      border-radius: 50%;\n",
       "      cursor: pointer;\n",
       "      display: none;\n",
       "      fill: #1967D2;\n",
       "      height: 32px;\n",
       "      padding: 0 0 0 0;\n",
       "      width: 32px;\n",
       "    }\n",
       "\n",
       "    .colab-df-convert:hover {\n",
       "      background-color: #E2EBFA;\n",
       "      box-shadow: 0px 1px 2px rgba(60, 64, 67, 0.3), 0px 1px 3px 1px rgba(60, 64, 67, 0.15);\n",
       "      fill: #174EA6;\n",
       "    }\n",
       "\n",
       "    [theme=dark] .colab-df-convert {\n",
       "      background-color: #3B4455;\n",
       "      fill: #D2E3FC;\n",
       "    }\n",
       "\n",
       "    [theme=dark] .colab-df-convert:hover {\n",
       "      background-color: #434B5C;\n",
       "      box-shadow: 0px 1px 3px 1px rgba(0, 0, 0, 0.15);\n",
       "      filter: drop-shadow(0px 1px 2px rgba(0, 0, 0, 0.3));\n",
       "      fill: #FFFFFF;\n",
       "    }\n",
       "  </style>\n",
       "\n",
       "      <script>\n",
       "        const buttonEl =\n",
       "          document.querySelector('#df-957bc329-ca75-43d7-8a33-6fcef02872e6 button.colab-df-convert');\n",
       "        buttonEl.style.display =\n",
       "          google.colab.kernel.accessAllowed ? 'block' : 'none';\n",
       "\n",
       "        async function convertToInteractive(key) {\n",
       "          const element = document.querySelector('#df-957bc329-ca75-43d7-8a33-6fcef02872e6');\n",
       "          const dataTable =\n",
       "            await google.colab.kernel.invokeFunction('convertToInteractive',\n",
       "                                                     [key], {});\n",
       "          if (!dataTable) return;\n",
       "\n",
       "          const docLinkHtml = 'Like what you see? Visit the ' +\n",
       "            '<a target=\"_blank\" href=https://colab.research.google.com/notebooks/data_table.ipynb>data table notebook</a>'\n",
       "            + ' to learn more about interactive tables.';\n",
       "          element.innerHTML = '';\n",
       "          dataTable['output_type'] = 'display_data';\n",
       "          await google.colab.output.renderOutput(dataTable, element);\n",
       "          const docLink = document.createElement('div');\n",
       "          docLink.innerHTML = docLinkHtml;\n",
       "          element.appendChild(docLink);\n",
       "        }\n",
       "      </script>\n",
       "    </div>\n",
       "  </div>\n",
       "  "
      ],
      "text/plain": [
       "    Unnamed: 0                                                  0\n",
       "0            0  {'seconds': 5194, 'error_state': '00', 'pir_da...\n",
       "1            1  {'seconds': 5195, 'error_state': '00', 'pir_da...\n",
       "2            2  {'crc': True, 'captured_by': [{'0': {'00000000...\n",
       "3            3  {'luminance': 61, 'battery_voltage': 4268, 'ro...\n",
       "4            4  {'seconds': 5206, 'error_state': '00', 'pir_da...\n",
       "..         ...                                                ...\n",
       "76          76  {'seconds': 5281, 'error_state': '00', 'pir_da...\n",
       "77          77  {'seconds': 5285, 'error_state': '00', 'pir_da...\n",
       "78          78  {'seconds': 5286, 'error_state': '00', 'pir_da...\n",
       "79          79  {'crc': True, 'captured_by': [{'0': {'00000000...\n",
       "80          80  {'luminance': 63, 'battery_voltage': 4268, 'ro...\n",
       "\n",
       "[81 rows x 2 columns]"
      ]
     },
     "execution_count": 93,
     "metadata": {},
     "output_type": "execute_result"
    }
   ],
   "source": [
    "df2"
   ]
  },
  {
   "cell_type": "code",
   "execution_count": 95,
   "metadata": {
    "colab": {
     "base_uri": "https://localhost:8080/",
     "height": 528
    },
    "id": "PwB9zrTN7Z8-",
    "outputId": "beab72ef-a89a-40e5-8faa-d10f749dd59d"
   },
   "outputs": [
    {
     "name": "stdout",
     "output_type": "stream",
     "text": [
      "Thermal raw readings: [19.0, 19.25, 18.75, 18.75, 18.5, 18.5, 19.25, 19.0, 20.0, 20.25, 20.25, 20.5, 20.0, 19.75, 20.0, 20.0, 21.0, 20.5, 21.0, 21.25, 21.25, 20.5, 20.5, 20.25, 21.25, 21.25, 21.0, 21.75, 21.75, 21.0, 20.75, 20.5, 21.75, 21.75, 21.5, 22.0, 21.5, 21.5, 21.0, 21.0, 21.25, 21.25, 21.75, 22.25, 22.0, 21.5, 21.5, 21.75, 22.25, 21.75, 22.0, 22.0, 21.75, 22.0, 21.75, 21.75, 23.0, 23.0, 22.5, 22.5, 23.0, 22.75, 22.25, 22.75]\n",
      "Decoded TOF data:\n",
      " [[21.8  21.74 21.16 21.27 20.91 20.75 21.63 21.28]\n",
      " [21.62 22.02 21.61 22.17 21.83 21.34 21.46 21.37]\n",
      " [21.9  21.88 21.92 22.24 22.24 21.75 21.58 21.24]\n",
      " [21.96 21.94 21.94 22.41 22.37 21.68 21.7  21.37]\n",
      " [22.01 22.16 22.11 22.35 22.15 22.06 21.8  21.43]\n",
      " [21.61 21.72 22.23 22.43 22.19 21.94 21.8  21.83]\n",
      " [21.73 21.78 21.81 21.85 22.02 22.04 21.7  21.75]\n",
      " [22.22 22.11 21.78 21.87 22.45 22.45 21.86 21.87]]\n",
      "\n",
      "\n",
      "\n"
     ]
    },
    {
     "data": {
      "text/plain": [
       "<matplotlib.axes._subplots.AxesSubplot at 0x7fc99596b9a0>"
      ]
     },
     "execution_count": 95,
     "metadata": {},
     "output_type": "execute_result"
    },
    {
     "data": {
      "image/png": "[encoded data removed]",
      "text/plain": [
       "<Figure size 432x288 with 2 Axes>"
      ]
     },
     "metadata": {
      "needs_background": "light"
     },
     "output_type": "display_data"
    }
   ],
   "source": [
    "json_string = df2._get_value('2','0')\n",
    "# 1) Convert string to JSON\n",
    "json_dict = yaml.load(json_string, Loader=yaml.FullLoader)\n",
    "# print(json.dumps(json_dict, indent=4))\n",
    "# 2) Thermal data is saved under the keyword 'roi'\n",
    "thermal_roi_values = json_dict['roi']\n",
    "# 3) Data is saved in a hex string like before. It is sent in increments of 0.25 degrees starring from a minimum value of 10\n",
    "thermal_roi_values = [10+int(x+y,16)*.25 for x,y in zip(thermal_roi_values[::2], thermal_roi_values[1::2])]\n",
    "# 4) When standing at the base of the base faving it, the readings are top-left to bottom-right\n",
    "thermal_data_matrix = np.array(thermal_roi_values).reshape((8, 8))\n",
    "# 5) The readings have internal noise. To correct it we add a bias. This is a fixed value\n",
    "THERMAL_BIAS = [\n",
    "    [ 2.8,   2.49,  2.41,  2.52,  2.41,  2.25,  2.38,  2.28],\n",
    "    [ 1.62,  1.77,  1.36,  1.67,  1.83,  1.59,  1.46,  1.37],\n",
    "    [ 0.9,   1.38,  0.92,  0.99,  0.99,  1.25,  1.08,  0.99],\n",
    "    [ 0.71,  0.69,  0.94,  0.66,  0.62,  0.68,  0.95,  0.87],\n",
    "    [ 0.26,  0.41,  0.61,  0.35,  0.65,  0.56,  0.8,   0.43],\n",
    "    [ 0.36,  0.47,  0.48,  0.18,  0.19,  0.44,  0.3,   0.08],\n",
    "    [-0.52,  0.03, -0.19, -0.15,  0.27,  0.04, -0.05,  -0  ],\n",
    "    [-0.78, -0.89, -0.72, -0.63, -0.55, -0.3,  -0.39, -0.88]\n",
    "]\n",
    "thermal_data_matrix = thermal_data_matrix + THERMAL_BIAS\n",
    "# Result\n",
    "print('Thermal raw readings:', thermal_roi_values)\n",
    "print('Decoded TOF data:\\n', thermal_data_matrix)\n",
    "print('\\n\\n')\n",
    "sns.heatmap(thermal_data_matrix)"
   ]
  }
 ],
 "metadata": {
  "colab": {
   "provenance": []
  },
  "kernelspec": {
   "display_name": "Python 3 (ipykernel)",
   "language": "python",
   "name": "python3"
  },
  "language_info": {
   "codemirror_mode": {
    "name": "ipython",
    "version": 3
   },
   "file_extension": ".py",
   "mimetype": "text/x-python",
   "name": "python",
   "nbconvert_exporter": "python",
   "pygments_lexer": "ipython3",
   "version": "3.11.1"
  }
 },
 "nbformat": 4,
 "nbformat_minor": 1
}
